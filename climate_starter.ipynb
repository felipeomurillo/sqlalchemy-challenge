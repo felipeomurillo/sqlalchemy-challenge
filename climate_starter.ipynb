{
 "cells": [
  {
   "cell_type": "markdown",
   "metadata": {},
   "source": [
    "----\n",
    "# SQLAlchemy Homework - Surfs Up!\n",
    "#### Author: Felipe Murillo\n",
    "#### Date Created: June 1, 2020\n",
    "#### Description: Demonstrate how to read a SQLite database into Jupyter Notebooks to perform a climate analysis. Then, create a Flask API with query results\n",
    "#### Required Inputs: hawaii.sqlite (database)\n",
    "----"
   ]
  },
  {
   "cell_type": "markdown",
   "metadata": {},
   "source": [
    "### Import required dependencies"
   ]
  },
  {
   "cell_type": "code",
   "execution_count": 1,
   "metadata": {},
   "outputs": [],
   "source": [
    "# Import matplotlib\n",
    "%matplotlib inline\n",
    "from matplotlib import style\n",
    "style.use('fivethirtyeight')\n",
    "import matplotlib.pyplot as plt\n",
    "import matplotlib.ticker as ticker"
   ]
  },
  {
   "cell_type": "code",
   "execution_count": 2,
   "metadata": {},
   "outputs": [],
   "source": [
    "# Import numpy and pandas modules\n",
    "import numpy as np\n",
    "import pandas as pd\n",
    "\n",
    "# Statistical analysis\n",
    "from scipy import stats"
   ]
  },
  {
   "cell_type": "code",
   "execution_count": 3,
   "metadata": {},
   "outputs": [],
   "source": [
    "# Import datetime module\n",
    "import datetime as dt"
   ]
  },
  {
   "cell_type": "markdown",
   "metadata": {},
   "source": [
    "### Reflect Tables into SQLAlchemy ORM"
   ]
  },
  {
   "cell_type": "code",
   "execution_count": 4,
   "metadata": {},
   "outputs": [],
   "source": [
    "# Python SQL toolkit and Object Relational Mapper\n",
    "import sqlalchemy\n",
    "from sqlalchemy.ext.automap import automap_base\n",
    "from sqlalchemy.orm import Session\n",
    "from sqlalchemy import create_engine, func, inspect"
   ]
  },
  {
   "cell_type": "code",
   "execution_count": 5,
   "metadata": {},
   "outputs": [],
   "source": [
    "# Create an engine for the `hawaii.sqlite` database\n",
    "engine = create_engine(\"sqlite:///data/hawaii.sqlite\")"
   ]
  },
  {
   "cell_type": "code",
   "execution_count": 6,
   "metadata": {},
   "outputs": [
    {
     "data": {
      "text/plain": [
       "['measurement', 'station']"
      ]
     },
     "execution_count": 6,
     "metadata": {},
     "output_type": "execute_result"
    }
   ],
   "source": [
    "# Use the Inspector to explore the database and print the table names\n",
    "inspector = inspect(engine)\n",
    "inspector.get_table_names()"
   ]
  },
  {
   "cell_type": "code",
   "execution_count": 7,
   "metadata": {
    "scrolled": true
   },
   "outputs": [
    {
     "name": "stdout",
     "output_type": "stream",
     "text": [
      "id INTEGER\n",
      "station TEXT\n",
      "date TEXT\n",
      "prcp FLOAT\n",
      "tobs FLOAT\n"
     ]
    }
   ],
   "source": [
    "# Use Inspector to print the column names and types of 'measurement' table\n",
    "columns = inspector.get_columns('measurement')\n",
    "for column in columns:\n",
    "    print(column[\"name\"], column[\"type\"])"
   ]
  },
  {
   "cell_type": "code",
   "execution_count": 8,
   "metadata": {},
   "outputs": [
    {
     "name": "stdout",
     "output_type": "stream",
     "text": [
      "id INTEGER\n",
      "station TEXT\n",
      "name TEXT\n",
      "latitude FLOAT\n",
      "longitude FLOAT\n",
      "elevation FLOAT\n"
     ]
    }
   ],
   "source": [
    "# Use Inspector to print the column names and types of 'measurement' table\n",
    "columns = inspector.get_columns('station')\n",
    "for column in columns:\n",
    "    print(column[\"name\"], column[\"type\"])"
   ]
  },
  {
   "cell_type": "code",
   "execution_count": 9,
   "metadata": {},
   "outputs": [
    {
     "data": {
      "text/plain": [
       "['measurement', 'station']"
      ]
     },
     "execution_count": 9,
     "metadata": {},
     "output_type": "execute_result"
    }
   ],
   "source": [
    "# Reflect Database into ORM class\n",
    "Base = automap_base()\n",
    "\n",
    "# Reflect an existing database into a new model\n",
    "Base.prepare(engine, reflect=True)\n",
    "\n",
    "# Print all the classes mapped to the base\n",
    "Base.classes.keys()"
   ]
  },
  {
   "cell_type": "code",
   "execution_count": 10,
   "metadata": {},
   "outputs": [],
   "source": [
    "# Reflect the tables and save references\n",
    "Measurement = Base.classes.measurement\n",
    "Station = Base.classes.station"
   ]
  },
  {
   "cell_type": "code",
   "execution_count": 11,
   "metadata": {},
   "outputs": [],
   "source": [
    "# Start an engine session to link Python to the DB\n",
    "session = Session(engine)"
   ]
  },
  {
   "cell_type": "markdown",
   "metadata": {},
   "source": [
    "----\n",
    "# Exploratory Climate Analysis"
   ]
  },
  {
   "cell_type": "markdown",
   "metadata": {},
   "source": [
    "## Precipitation Analysis"
   ]
  },
  {
   "cell_type": "code",
   "execution_count": 12,
   "metadata": {},
   "outputs": [
    {
     "data": {
      "text/plain": [
       "{'_sa_instance_state': <sqlalchemy.orm.state.InstanceState at 0x1a20d38890>,\n",
       " 'station': 'USC00519397',\n",
       " 'prcp': 0.08,\n",
       " 'tobs': 65.0,\n",
       " 'id': 1,\n",
       " 'date': '2010-01-01'}"
      ]
     },
     "execution_count": 12,
     "metadata": {},
     "output_type": "execute_result"
    }
   ],
   "source": [
    "# Print out first row of measurement database\n",
    "first_row = session.query(Measurement).first()\n",
    "first_row.__dict__"
   ]
  },
  {
   "cell_type": "code",
   "execution_count": 13,
   "metadata": {},
   "outputs": [
    {
     "name": "stdout",
     "output_type": "stream",
     "text": [
      "Latest date on the database is: 2017-08-23\n",
      "Query will start 1 year before this latest date. Query starts on: 2016-08-23\n"
     ]
    }
   ],
   "source": [
    "# Determine latest date in the measurement database and provide query as dictionary\n",
    "latest_date = (\n",
    "                session\n",
    "                .query(Measurement.date)\n",
    "                .order_by(Measurement.date.desc())\n",
    "                .first()\n",
    "                ._asdict()\n",
    "                )\n",
    "\n",
    "# Determine the start date for a whole year's query, by going back a year\n",
    "latest_date_f = dt.datetime.strptime(latest_date['date'],'%Y-%m-%d')\n",
    "start_date = dt.date(latest_date_f.year -1,latest_date_f.month, latest_date_f.day)\n",
    "\n",
    "# Format the start date\n",
    "start_date_fmt = f\"{start_date.year}-{'{:02d}'.format(start_date.month)}-{'{:02d}'.format(start_date.day)}\"\n",
    "\n",
    "# Print results\n",
    "print(f\"Latest date on the database is: {latest_date['date']}\")\n",
    "print(f'Query will start 1 year before this latest date. Query starts on: {start_date_fmt}')"
   ]
  },
  {
   "cell_type": "code",
   "execution_count": 14,
   "metadata": {},
   "outputs": [],
   "source": [
    "# Retrieve 12 months' worth of data from specified start_date\n",
    "# Order query by dates: earliest to latest\n",
    "lastYear = (\n",
    "                session\n",
    "                .query(Measurement.date, Measurement.prcp)\n",
    "                .filter(Measurement.date >= start_date)\n",
    "                .filter(Measurement.date <= latest_date['date'])\n",
    "                .order_by(Measurement.date.asc())\n",
    "                .all()\n",
    ")\n",
    "\n",
    "# Save query as a dataframe\n",
    "prcp_df = (\n",
    "            pd\n",
    "            .DataFrame(lastYear)\n",
    "            .set_index('date')\n",
    ")"
   ]
  },
  {
   "cell_type": "code",
   "execution_count": 15,
   "metadata": {},
   "outputs": [
    {
     "data": {
      "image/png": "[encoded data removed]",
      "text/plain": [
       "<Figure size 1080x360 with 1 Axes>"
      ]
     },
     "metadata": {
      "needs_background": "light"
     },
     "output_type": "display_data"
    }
   ],
   "source": [
    "# Plot precipitation data\n",
    "prcp_df.plot(y='prcp',\n",
    "             figsize=(15,5),\n",
    "             legend=False,\n",
    "             color = 'cornflowerblue')\n",
    "\n",
    "# Format plot\n",
    "plt.xticks(rotation = 75)\n",
    "plt.xlabel(\"Date\")\n",
    "plt.ylabel(\"Precipitation (inches)\")\n",
    "plt.title(f\"Precipitation Profile\\n ({start_date_fmt} to {latest_date['date']})\",fontweight=\"bold\")\n",
    "\n",
    "# Display plot\n",
    "plt.show()"
   ]
  },
  {
   "cell_type": "code",
   "execution_count": 16,
   "metadata": {},
   "outputs": [
    {
     "data": {
      "text/html": [
       "<div>\n",
       "<style scoped>\n",
       "    .dataframe tbody tr th:only-of-type {\n",
       "        vertical-align: middle;\n",
       "    }\n",
       "\n",
       "    .dataframe tbody tr th {\n",
       "        vertical-align: top;\n",
       "    }\n",
       "\n",
       "    .dataframe thead th {\n",
       "        text-align: right;\n",
       "    }\n",
       "</style>\n",
       "<table border=\"1\" class=\"dataframe\">\n",
       "  <thead>\n",
       "    <tr style=\"text-align: right;\">\n",
       "      <th></th>\n",
       "      <th>Precipitation (inches)</th>\n",
       "    </tr>\n",
       "  </thead>\n",
       "  <tbody>\n",
       "    <tr>\n",
       "      <td>count</td>\n",
       "      <td>2021.000000</td>\n",
       "    </tr>\n",
       "    <tr>\n",
       "      <td>mean</td>\n",
       "      <td>0.177279</td>\n",
       "    </tr>\n",
       "    <tr>\n",
       "      <td>std</td>\n",
       "      <td>0.461190</td>\n",
       "    </tr>\n",
       "    <tr>\n",
       "      <td>min</td>\n",
       "      <td>0.000000</td>\n",
       "    </tr>\n",
       "    <tr>\n",
       "      <td>25%</td>\n",
       "      <td>0.000000</td>\n",
       "    </tr>\n",
       "    <tr>\n",
       "      <td>50%</td>\n",
       "      <td>0.020000</td>\n",
       "    </tr>\n",
       "    <tr>\n",
       "      <td>75%</td>\n",
       "      <td>0.130000</td>\n",
       "    </tr>\n",
       "    <tr>\n",
       "      <td>max</td>\n",
       "      <td>6.700000</td>\n",
       "    </tr>\n",
       "  </tbody>\n",
       "</table>\n",
       "</div>"
      ],
      "text/plain": [
       "       Precipitation (inches)\n",
       "count             2021.000000\n",
       "mean                 0.177279\n",
       "std                  0.461190\n",
       "min                  0.000000\n",
       "25%                  0.000000\n",
       "50%                  0.020000\n",
       "75%                  0.130000\n",
       "max                  6.700000"
      ]
     },
     "execution_count": 16,
     "metadata": {},
     "output_type": "execute_result"
    }
   ],
   "source": [
    "# Use Pandas to calculate the summary statistics for the precipitation data\n",
    "statsSummary = prcp_df.describe()\n",
    "statsSummary.rename(columns = {'prcp':\"Precipitation (inches)\"})"
   ]
  },
  {
   "cell_type": "markdown",
   "metadata": {},
   "source": [
    "## Station Analysis\n"
   ]
  },
  {
   "cell_type": "code",
   "execution_count": 17,
   "metadata": {},
   "outputs": [
    {
     "name": "stdout",
     "output_type": "stream",
     "text": [
      "9 different weather stations are used to make precipitation measurements\n"
     ]
    }
   ],
   "source": [
    "# Determine number of weather stations\n",
    "noStations = (\n",
    "                session\n",
    "                .query(Measurement.station)\n",
    "                .group_by(Measurement.station)\n",
    "                .count()\n",
    "              )\n",
    "\n",
    "print(f\"{noStations} different weather stations are used to make precipitation measurements\")"
   ]
  },
  {
   "cell_type": "code",
   "execution_count": 18,
   "metadata": {
    "scrolled": false
   },
   "outputs": [
    {
     "data": {
      "text/plain": [
       "[('USC00519281', 'WAIHEE 837.5, HI US', 2772),\n",
       " ('USC00519397', 'WAIKIKI 717.2, HI US', 2724),\n",
       " ('USC00513117', 'KANEOHE 838.1, HI US', 2709),\n",
       " ('USC00519523', 'WAIMANALO EXPERIMENTAL FARM, HI US', 2669),\n",
       " ('USC00516128', 'MANOA LYON ARBO 785.2, HI US', 2612),\n",
       " ('USC00514830', 'KUALOA RANCH HEADQUARTERS 886.9, HI US', 2202),\n",
       " ('USC00511918', 'HONOLULU OBSERVATORY 702.2, HI US', 1979),\n",
       " ('USC00517948', 'PEARL CITY, HI US', 1372),\n",
       " ('USC00518838', 'UPPER WAHIAWA 874.3, HI US', 511)]"
      ]
     },
     "execution_count": 18,
     "metadata": {},
     "output_type": "execute_result"
    }
   ],
   "source": [
    "# List the stations and the number of weather observations made at each station (in descending order)\n",
    "activeStations = ( \n",
    "               session\n",
    "              .query(Measurement.station, Station.name, func.count(Measurement.station))\n",
    "              .group_by(Measurement.station)\n",
    "              .join(Station, Measurement.station == Station.station)\n",
    "              .order_by(func.count(Measurement.station).desc())\n",
    "              .all()\n",
    "              )\n",
    "activeStations"
   ]
  },
  {
   "cell_type": "code",
   "execution_count": 19,
   "metadata": {},
   "outputs": [
    {
     "name": "stdout",
     "output_type": "stream",
     "text": [
      "The most active weather station is USC00519281(WAIHEE 837.5, HI US) with 2772 measurements made\n"
     ]
    }
   ],
   "source": [
    "# Determine the most active station\n",
    "activeStation = activeStations[0]\n",
    "print(f\"The most active weather station is {activeStation[0]}({activeStation[1]}) with {activeStation[2]} measurements made\")"
   ]
  },
  {
   "cell_type": "code",
   "execution_count": 20,
   "metadata": {},
   "outputs": [
    {
     "name": "stdout",
     "output_type": "stream",
     "text": [
      "USC00519281 (WAIHEE 837.5, HI US) recorded the following temperatures:\n",
      "Minimum Temperature: 54.0 deg F\n",
      "Maximum Temperature: 85.0 deg F\n",
      "Average Temperature: 71.66 deg F\n"
     ]
    }
   ],
   "source": [
    "# Determine minimum, maximum, and average observed temperatures from most active weather station\n",
    "activePrcp = ( \n",
    "                 session\n",
    "                 .query(func.min(Measurement.tobs), func.max(Measurement.tobs), func.avg(Measurement.tobs))\n",
    "                 .group_by(Measurement.station)\n",
    "                 .filter_by(station = activeStation[0])\n",
    "                 .all()\n",
    "              )\n",
    "\n",
    "# Print out the results\n",
    "print(f'''{activeStation[0]} ({activeStation[1]}) recorded the following temperatures:\n",
    "Minimum Temperature: {activePrcp[0][0]} deg F\n",
    "Maximum Temperature: {activePrcp[0][1]} deg F\n",
    "Average Temperature: {round(activePrcp[0][2],2)} deg F''')"
   ]
  },
  {
   "cell_type": "code",
   "execution_count": 21,
   "metadata": {},
   "outputs": [],
   "source": [
    "# Determine latest measurement taken by most active station\n",
    "stationLast = (\n",
    "                session\n",
    "                .query(Measurement.date)\n",
    "                .filter_by(station = activeStation[0])\n",
    "                .order_by(Measurement.date.desc())\n",
    "                .first()\n",
    "                ._asdict()\n",
    "                )\n",
    "\n",
    "# Determine the start date for a year's worth query\n",
    "stationLast_f = dt.datetime.strptime(stationLast['date'],'%Y-%m-%d')\n",
    "stationStart = dt.date(stationLast_f.year -1,stationLast_f.month, stationLast_f.day)\n",
    "\n",
    "# Format the start date\n",
    "stationStart_fmt = f\"{stationStart.year}-{'{:02d}'.format(stationStart.month)}-{'{:02d}'.format(stationStart.day)}\"\n"
   ]
  },
  {
   "cell_type": "code",
   "execution_count": 22,
   "metadata": {},
   "outputs": [],
   "source": [
    "# Query the last 12 months of temperature observation data for this station and plot the results as a histogram\n",
    "activeStationData = (\n",
    "                        session\n",
    "                        .query(Measurement.date, Measurement.tobs)\n",
    "                        .filter_by(station = activeStation[0])\n",
    "                        .filter(Measurement.date >= stationStart)\n",
    "                        .filter(Measurement.date <= stationLast['date'])\n",
    "                        .order_by(Measurement.date.asc())\n",
    "                        .all()\n",
    ")\n",
    "\n",
    "# Save query as a dataframe\n",
    "activeStationDate_df = (\n",
    "                        pd\n",
    "                        .DataFrame(activeStationData)\n",
    "                        .set_index('date')\n",
    ")"
   ]
  },
  {
   "cell_type": "code",
   "execution_count": 23,
   "metadata": {
    "scrolled": true
   },
   "outputs": [
    {
     "data": {
      "image/png": "[encoded data removed]",
      "text/plain": [
       "<Figure size 576x216 with 1 Axes>"
      ]
     },
     "metadata": {
      "needs_background": "light"
     },
     "output_type": "display_data"
    }
   ],
   "source": [
    "# Plot histogram of observed temperature readings from active weather station. Use 12 bins\n",
    "(\n",
    "    activeStationDate_df\n",
    "    .plot\n",
    "    .hist(y='tobs',\n",
    "          bins=12,\n",
    "          figsize=(8,3),\n",
    "          legend=False,\n",
    "          color ='mediumseagreen',\n",
    "          edgecolor='darkgreen')\n",
    ")\n",
    "\n",
    "# Format plot\n",
    "plt.xlabel(\"observed temperatures (deg F)\")\n",
    "plt.ylabel(\"frequency\")\n",
    "plt.title(f\"Temperature Profile\\nObserved in {activeStation[1]}\\n ({stationStart_fmt} to {stationLast['date']})\",fontweight=\"bold\")\n",
    "\n",
    "# Display plot\n",
    "plt.show()"
   ]
  },
  {
   "cell_type": "markdown",
   "metadata": {},
   "source": [
    "----\n",
    "## Bonus Challenge Assignment"
   ]
  },
  {
   "cell_type": "markdown",
   "metadata": {},
   "source": [
    "### Temperature Analysis I"
   ]
  },
  {
   "cell_type": "code",
   "execution_count": 24,
   "metadata": {},
   "outputs": [
    {
     "data": {
      "text/plain": [
       "0"
      ]
     },
     "execution_count": 24,
     "metadata": {},
     "output_type": "execute_result"
    }
   ],
   "source": [
    "# Ensure that there aren't any non-float values in the measurement database\n",
    "check = session.query(Measurement.date, Measurement.tobs).all()\n",
    "\n",
    "count=0\n",
    "for entry in check:\n",
    "    if type(entry.tobs) != float:\n",
    "        count +=1\n",
    "count"
   ]
  },
  {
   "cell_type": "code",
   "execution_count": 25,
   "metadata": {},
   "outputs": [
    {
     "name": "stdout",
     "output_type": "stream",
     "text": [
      "Average temperature in June:  74.944 deg F\n",
      "Average temperature in December: 71.042 deg F\n"
     ]
    }
   ],
   "source": [
    "# Determine June and December Averages\n",
    "junAvg = (session.query(func.avg(Measurement.tobs)).filter(Measurement.date.like('%-06-%')).all())\n",
    "decAvg = (session.query(func.avg(Measurement.tobs)).filter(Measurement.date.like('%-12-%')).all())\n",
    "\n",
    "# Print results\n",
    "print(f\"Average temperature in June:  {round(junAvg[0][0],3)} deg F\")\n",
    "print(f\"Average temperature in December: {round(decAvg[0][0],3)} deg F\")"
   ]
  },
  {
   "cell_type": "markdown",
   "metadata": {},
   "source": [
    "#### Because weather data is taken from different weather stations and the number of weather observations differ between June and December (and stations), an indepenedent T-TEST is most appropriate. If data from all 9 weather stations were used everyday (without exception), then a paired t-test could have been considered."
   ]
  },
  {
   "cell_type": "code",
   "execution_count": 26,
   "metadata": {
    "scrolled": true
   },
   "outputs": [
    {
     "data": {
      "text/plain": [
       "Ttest_indResult(statistic=array([31.60372399]), pvalue=array([3.9025129e-191]))"
      ]
     },
     "execution_count": 26,
     "metadata": {},
     "output_type": "execute_result"
    }
   ],
   "source": [
    "# June and December temperature data sets\n",
    "junTemps = (session.query(Measurement.tobs).filter(Measurement.date.like('%-06-%')).all())\n",
    "decTemps = (session.query(Measurement.tobs).filter(Measurement.date.like('%-12-%')).all())\n",
    "\n",
    "# Perform paired t-test\n",
    "t_test= stats.ttest_ind(junTemps, decTemps)\n",
    "t_test"
   ]
  },
  {
   "cell_type": "code",
   "execution_count": 27,
   "metadata": {},
   "outputs": [
    {
     "name": "stdout",
     "output_type": "stream",
     "text": [
      "T-test returns a very small p-value (3.9025129038616655e-191)that is rounded down to 0.0\n",
      "Conclusion: Difference between June mean & December mean is statistically significant\n"
     ]
    }
   ],
   "source": [
    "if t_test[1][0] < 0.05:\n",
    "    print(f\"T-test returns a very small p-value ({t_test[1][0]})that is rounded down to {round(t_test[1][0],5)}\")\n",
    "    print(f\"Conclusion: Difference between June mean & December mean is statistically significant\")"
   ]
  },
  {
   "cell_type": "markdown",
   "metadata": {},
   "source": [
    "### Temperature Analysis II"
   ]
  },
  {
   "cell_type": "code",
   "execution_count": 28,
   "metadata": {},
   "outputs": [
    {
     "name": "stdout",
     "output_type": "stream",
     "text": [
      "[(62.0, 69.57142857142857, 74.0)]\n"
     ]
    }
   ],
   "source": [
    "# This function called `calc_temps` will accept start date and end date in the format '%Y-%m-%d' \n",
    "# and return the minimum, average, and maximum temperatures for that range of dates\n",
    "def calc_temps(start_date, end_date):\n",
    "    \"\"\"TMIN, TAVG, and TMAX for a list of dates.\n",
    "    \n",
    "    Args:\n",
    "        start_date (string): A date string in the format %Y-%m-%d\n",
    "        end_date (string): A date string in the format %Y-%m-%d\n",
    "        \n",
    "    Returns:\n",
    "        TMIN, TAVE, and TMAX\n",
    "    \"\"\"\n",
    "    \n",
    "    return session.query(func.min(Measurement.tobs), func.avg(Measurement.tobs), func.max(Measurement.tobs)).\\\n",
    "        filter(Measurement.date >= start_date).filter(Measurement.date <= end_date).all()\n",
    "\n",
    "# function usage example\n",
    "print(calc_temps('2012-02-28', '2012-03-05'))"
   ]
  },
  {
   "cell_type": "code",
   "execution_count": 29,
   "metadata": {},
   "outputs": [
    {
     "name": "stdout",
     "output_type": "stream",
     "text": [
      "When is your vacation starting? ('YYYY-MM-DD'): 2020-07-29\n",
      "When is your vacation coming to an end? ('YYYY-MM-DD'): 2020-08-12\n",
      "\n",
      "Last year's data was not found. Going back 2 year(s)...\n",
      "\n",
      "Last year's data was not found. Going back 3 year(s)...\n",
      "\n",
      "For a vacation starting on 2020-07-29, ending on 2020-08-12, the following data is available:\n",
      "Data from 3 years ago, (2017-07-29 to 2017-08-12):\n",
      "Minimum Temperature: 71.0 deg F\n",
      "Maximum Temperature: 84.0 deg F\n",
      "Average Temperature: 79.19 deg F\n"
     ]
    }
   ],
   "source": [
    "# Use your previous function `calc_temps` to calculate the tmin, tavg, and tmax \n",
    "# for your trip using the previous year's data for those same dates.\n",
    "\n",
    "# Request user to input vacation dates\n",
    "trip_startDate = input(\"When is your vacation starting? ('YYYY-MM-DD'): \")\n",
    "trip_endDate = input(\"When is your vacation coming to an end? ('YYYY-MM-DD'): \")\n",
    "\n",
    "# Calculate last year's date\n",
    "trip_startDate_f = dt.datetime.strptime(trip_startDate,'%Y-%m-%d')\n",
    "trip_endDate_f = dt.datetime.strptime(trip_endDate,'%Y-%m-%d')\n",
    "prevYearStart = dt.date(trip_startDate_f.year -1,trip_startDate_f.month, trip_startDate_f.day)\n",
    "prevYearEnd = dt.date(trip_endDate_f.year -1,trip_endDate_f.month, trip_endDate_f.day)\n",
    "\n",
    "\n",
    "# Request last year's weather data\n",
    "reqData = calc_temps(prevYearStart,prevYearEnd)\n",
    "\n",
    "# If last year's data is not available, then go back enough years to get \n",
    "# valid data for the inputted dates\n",
    "\n",
    "# Initialize variables\n",
    "factor = 1\n",
    "\n",
    "# While weather data is invalid, keep going back an extra year until valid seasonal data can be retrieved\n",
    "while reqData[0][0] == None:\n",
    "        factor +=1\n",
    "        print(f\"\\nLast year's data was not found. Going back {factor} year(s)...\")\n",
    "        prevYearStart = dt.date(trip_startDate_f.year -factor,trip_startDate_f.month, trip_startDate_f.day)\n",
    "        prevYearEnd = dt.date(trip_endDate_f.year -factor,trip_endDate_f.month, trip_endDate_f.day)\n",
    "        reqData = calc_temps(prevYearStart,prevYearEnd)\n",
    "\n",
    "# Format dates\n",
    "prevYearStart_f = f\"{prevYearStart.year}-{'{:02d}'.format(prevYearStart.month)}-{'{:02d}'.format(prevYearStart.day)}\"\n",
    "prevYearEnd_f = f\"{prevYearEnd.year}-{'{:02d}'.format(prevYearEnd.month)}-{'{:02d}'.format(prevYearEnd.day)}\"\n",
    "minReqData = round(reqData[0][0],2)\n",
    "avgReqData = round(reqData[0][1],2)\n",
    "maxReqData = round(reqData[0][2],2)\n",
    "\n",
    "# Print results to screen\n",
    "print(f\"\\nFor a vacation starting on {trip_startDate}, ending on {trip_endDate}, the following data is available:\")\n",
    "print(f\"Data from {factor} years ago, ({prevYearStart_f} to {prevYearEnd_f}):\")\n",
    "print(f'''Minimum Temperature: {minReqData} deg F\n",
    "Maximum Temperature: {maxReqData} deg F\n",
    "Average Temperature: {avgReqData} deg F''')"
   ]
  },
  {
   "cell_type": "code",
   "execution_count": 30,
   "metadata": {},
   "outputs": [
    {
     "data": {
      "image/png": "[encoded data removed]",
      "text/plain": [
       "<Figure size 144x360 with 1 Axes>"
      ]
     },
     "metadata": {
      "needs_background": "light"
     },
     "output_type": "display_data"
    }
   ],
   "source": [
    "# Plot the results from your previous query as a bar chart. \n",
    "# Use \"Trip Avg Temp\" as your Title\n",
    "# Use the average temperature for the y value\n",
    "\n",
    "# Use the peak-to-peak (tmax-tmin) value as the y error bar (yerr)\n",
    "yerr = np.array([avgReqData-minReqData,maxReqData-avgReqData])\n",
    "\n",
    "# Create bar plot with error bars\n",
    "plt.figure(figsize=(2,5))\n",
    "plt.bar(1,\n",
    "        reqData[0][2],\n",
    "        yerr=yerr.reshape(2,1),\n",
    "        color=\"salmon\",\n",
    "        edgecolor=\"grey\")\n",
    "\n",
    "# Format bar graph\n",
    "plt.title(\"Trip Avg Temp\", fontweight='bold')\n",
    "plt.ylabel('temperature (deg F)')\n",
    "plt.xlim(0,2)\n",
    "plt.ylim(0,100)\n",
    "plt.xticks([])\n",
    "\n",
    "# Display plot\n",
    "plt.show()"
   ]
  },
  {
   "cell_type": "markdown",
   "metadata": {},
   "source": [
    "### Daily Rainfall Average"
   ]
  },
  {
   "cell_type": "code",
   "execution_count": 31,
   "metadata": {},
   "outputs": [
    {
     "data": {
      "text/html": [
       "<div>\n",
       "<style scoped>\n",
       "    .dataframe tbody tr th:only-of-type {\n",
       "        vertical-align: middle;\n",
       "    }\n",
       "\n",
       "    .dataframe tbody tr th {\n",
       "        vertical-align: top;\n",
       "    }\n",
       "\n",
       "    .dataframe thead th {\n",
       "        text-align: right;\n",
       "    }\n",
       "</style>\n",
       "<table border=\"1\" class=\"dataframe\">\n",
       "  <thead>\n",
       "    <tr style=\"text-align: right;\">\n",
       "      <th></th>\n",
       "      <th>Station</th>\n",
       "      <th>Station Name</th>\n",
       "      <th>Lat</th>\n",
       "      <th>Lon</th>\n",
       "      <th>Elv</th>\n",
       "      <th>Total Prcp</th>\n",
       "    </tr>\n",
       "  </thead>\n",
       "  <tbody>\n",
       "    <tr>\n",
       "      <td>0</td>\n",
       "      <td>USC00516128</td>\n",
       "      <td>MANOA LYON ARBO 785.2, HI US</td>\n",
       "      <td>21.33310</td>\n",
       "      <td>-157.80250</td>\n",
       "      <td>152.4</td>\n",
       "      <td>1.66</td>\n",
       "    </tr>\n",
       "    <tr>\n",
       "      <td>1</td>\n",
       "      <td>USC00514830</td>\n",
       "      <td>KUALOA RANCH HEADQUARTERS 886.9, HI US</td>\n",
       "      <td>21.52130</td>\n",
       "      <td>-157.83740</td>\n",
       "      <td>7.0</td>\n",
       "      <td>0.34</td>\n",
       "    </tr>\n",
       "    <tr>\n",
       "      <td>2</td>\n",
       "      <td>USC00519281</td>\n",
       "      <td>WAIHEE 837.5, HI US</td>\n",
       "      <td>21.45167</td>\n",
       "      <td>-157.84889</td>\n",
       "      <td>32.9</td>\n",
       "      <td>0.29</td>\n",
       "    </tr>\n",
       "    <tr>\n",
       "      <td>3</td>\n",
       "      <td>USC00513117</td>\n",
       "      <td>KANEOHE 838.1, HI US</td>\n",
       "      <td>21.42340</td>\n",
       "      <td>-157.80150</td>\n",
       "      <td>14.6</td>\n",
       "      <td>0.06</td>\n",
       "    </tr>\n",
       "    <tr>\n",
       "      <td>4</td>\n",
       "      <td>USC00519397</td>\n",
       "      <td>WAIKIKI 717.2, HI US</td>\n",
       "      <td>21.27160</td>\n",
       "      <td>-157.81680</td>\n",
       "      <td>3.0</td>\n",
       "      <td>0.04</td>\n",
       "    </tr>\n",
       "    <tr>\n",
       "      <td>5</td>\n",
       "      <td>USC00519523</td>\n",
       "      <td>WAIMANALO EXPERIMENTAL FARM, HI US</td>\n",
       "      <td>21.33556</td>\n",
       "      <td>-157.71139</td>\n",
       "      <td>19.5</td>\n",
       "      <td>0.00</td>\n",
       "    </tr>\n",
       "    <tr>\n",
       "      <td>6</td>\n",
       "      <td>USC00517948</td>\n",
       "      <td>PEARL CITY, HI US</td>\n",
       "      <td>21.39340</td>\n",
       "      <td>-157.97510</td>\n",
       "      <td>11.9</td>\n",
       "      <td>NaN</td>\n",
       "    </tr>\n",
       "  </tbody>\n",
       "</table>\n",
       "</div>"
      ],
      "text/plain": [
       "       Station                            Station Name       Lat        Lon  \\\n",
       "0  USC00516128            MANOA LYON ARBO 785.2, HI US  21.33310 -157.80250   \n",
       "1  USC00514830  KUALOA RANCH HEADQUARTERS 886.9, HI US  21.52130 -157.83740   \n",
       "2  USC00519281                     WAIHEE 837.5, HI US  21.45167 -157.84889   \n",
       "3  USC00513117                    KANEOHE 838.1, HI US  21.42340 -157.80150   \n",
       "4  USC00519397                    WAIKIKI 717.2, HI US  21.27160 -157.81680   \n",
       "5  USC00519523      WAIMANALO EXPERIMENTAL FARM, HI US  21.33556 -157.71139   \n",
       "6  USC00517948                       PEARL CITY, HI US  21.39340 -157.97510   \n",
       "\n",
       "     Elv  Total Prcp  \n",
       "0  152.4        1.66  \n",
       "1    7.0        0.34  \n",
       "2   32.9        0.29  \n",
       "3   14.6        0.06  \n",
       "4    3.0        0.04  \n",
       "5   19.5        0.00  \n",
       "6   11.9         NaN  "
      ]
     },
     "execution_count": 31,
     "metadata": {},
     "output_type": "execute_result"
    }
   ],
   "source": [
    "# Calculate the total amount of rainfall per weather station for your trip dates \n",
    "# using the previous year's matching dates.\n",
    "# Sort this in descending order by precipitation amount \n",
    "# and list the station, name, latitude, longitude, and elevation\n",
    "\n",
    "# Query the total historical rainfall experienced during vacation days\n",
    "# as measured by every weather station\n",
    "rainfall = (\n",
    "            session\n",
    "            .query(Measurement.station, \n",
    "                   Station.name, \n",
    "                   Station.latitude,\n",
    "                   Station.longitude,\n",
    "                   Station.elevation,\n",
    "                   func.sum(Measurement.prcp))\n",
    "            .join(Station, Measurement.station == Station.station)\n",
    "            .filter(Measurement.date >= prevYearStart)\n",
    "            .filter(Measurement.date <= prevYearEnd)\n",
    "            .group_by(Measurement.station)\n",
    "            .order_by(func.sum(Measurement.prcp).desc())\n",
    "            .all()\n",
    "            )\n",
    "\n",
    "# Convert query into dataframe\n",
    "rainfall_df = pd.DataFrame(rainfall,columns=[\"Station\",\"Station Name\",\"Lat\",\"Lon\",\"Elv\",\"Total Prcp\"])  \n",
    "\n",
    "# Display dataframe\n",
    "rainfall_df\n"
   ]
  },
  {
   "cell_type": "markdown",
   "metadata": {},
   "source": [
    "### Daily Normals"
   ]
  },
  {
   "cell_type": "code",
   "execution_count": 33,
   "metadata": {},
   "outputs": [
    {
     "data": {
      "text/plain": [
       "[(62.0, 69.15384615384616, 77.0)]"
      ]
     },
     "execution_count": 33,
     "metadata": {},
     "output_type": "execute_result"
    }
   ],
   "source": [
    "# Create a query that will calculate the daily normals \n",
    "# (i.e. the averages for tmin, tmax, and tavg for all historic data matching a specific month and day)\n",
    "\n",
    "def daily_normals(date):\n",
    "    \"\"\"Daily Normals.\n",
    "    \n",
    "    Args:\n",
    "        date (str): A date string in the format '%m-%d'\n",
    "        \n",
    "    Returns:\n",
    "        A list of tuples containing the daily normals, tmin, tavg, and tmax\n",
    "    \n",
    "    \"\"\"\n",
    "    \n",
    "    sel = [func.min(Measurement.tobs), func.avg(Measurement.tobs), func.max(Measurement.tobs)]\n",
    "    return session.query(*sel).filter(func.strftime(\"%m-%d\", Measurement.date) == date).all()\n",
    "    \n",
    "daily_normals(\"01-01\")"
   ]
  },
  {
   "cell_type": "code",
   "execution_count": 34,
   "metadata": {},
   "outputs": [],
   "source": [
    "# Calculate number of vacation days given previous' section inputs\n",
    "vDays = (prevYearEnd - prevYearStart) + dt.timedelta(days=1)\n",
    "\n",
    "# Use the start and end date to create a range of dates\n",
    "delta_t = np.arange(1,vDays.days)\n",
    "dates = [trip_startDate_f.strftime('%Y-%m-%d')]\n",
    "for d in delta_t:\n",
    "    dates.append((trip_startDate_f + dt.timedelta(days=int(d))).strftime('%Y-%m-%d'))\n",
    "\n",
    "\n",
    "# Loop through the list of %m-%d strings and calculate the normals for each date\n",
    "normals = []\n",
    "for date in dates:\n",
    "    # Strip off the year and save a list of %m-%d strings\n",
    "    timestring = date[-5:]\n",
    "    temp = daily_normals(timestring)\n",
    "    normals.append([temp [0][0],temp [0][1],temp [0][2]])"
   ]
  },
  {
   "cell_type": "code",
   "execution_count": 35,
   "metadata": {
    "scrolled": true
   },
   "outputs": [],
   "source": [
    "# Load the previous query results into a Pandas DataFrame and add the `trip_dates` range as the `date` index\n",
    "normals_df = pd.DataFrame(normals, columns = [\"tmin\",\"tavg\",\"tmax\"])\n",
    "dates_df = pd.DataFrame(dates, columns = [\"date\"])\n",
    "\n",
    "# Concatenate date and normals dataframes\n",
    "trip_df = pd.concat([dates_df,normals_df], axis=1).set_index('date')\n",
    "trip_df.index = trip_df.index.map(str)"
   ]
  },
  {
   "cell_type": "code",
   "execution_count": 36,
   "metadata": {},
   "outputs": [
    {
     "data": {
      "image/png": "[encoded data removed]",
      "text/plain": [
       "<Figure size 1080x360 with 1 Axes>"
      ]
     },
     "metadata": {
      "needs_background": "light"
     },
     "output_type": "display_data"
    }
   ],
   "source": [
    "# Plot the daily normals as an area plot with `stacked=False`\n",
    "(\n",
    "    trip_df\n",
    "    .plot\n",
    "    .area(stacked=False,\n",
    "          figsize=(15,5),\n",
    "          alpha = 0.3)\n",
    ")\n",
    "\n",
    "# Format plot\n",
    "plt.title(f\"Daily Normal Temperatures\\n {dates[0]} to {dates[len(dates)-1]}\",fontweight=\"bold\")\n",
    "plt.xticks(rotation = 70)\n",
    "plt.xlabel(\"\")\n",
    "plt.ylabel(\"temperature (deg F)\")\n",
    "plt.ylim(50,100)\n",
    "plt.legend(loc=\"upper right\")\n",
    "# Display the plot\n",
    "plt.show()"
   ]
  },
  {
   "cell_type": "code",
   "execution_count": null,
   "metadata": {},
   "outputs": [],
   "source": []
  }
 ],
 "metadata": {
  "kernel_info": {
   "name": "python3"
  },
  "kernelspec": {
   "display_name": "Python 3",
   "language": "python",
   "name": "python3"
  },
  "language_info": {
   "codemirror_mode": {
    "name": "ipython",
    "version": 3
   },
   "file_extension": ".py",
   "mimetype": "text/x-python",
   "name": "python",
   "nbconvert_exporter": "python",
   "pygments_lexer": "ipython3",
   "version": "3.7.4"
  },
  "nteract": {
   "version": "0.12.3"
  },
  "varInspector": {
   "cols": {
    "lenName": 16,
    "lenType": 16,
    "lenVar": 40
   },
   "kernels_config": {
    "python": {
     "delete_cmd_postfix": "",
     "delete_cmd_prefix": "del ",
     "library": "var_list.py",
     "varRefreshCmd": "print(var_dic_list())"
    },
    "r": {
     "delete_cmd_postfix": ") ",
     "delete_cmd_prefix": "rm(",
     "library": "var_list.r",
     "varRefreshCmd": "cat(var_dic_list()) "
    }
   },
   "types_to_exclude": [
    "module",
    "function",
    "builtin_function_or_method",
    "instance",
    "_Feature"
   ],
   "window_display": false
  }
 },
 "nbformat": 4,
 "nbformat_minor": 2
}
